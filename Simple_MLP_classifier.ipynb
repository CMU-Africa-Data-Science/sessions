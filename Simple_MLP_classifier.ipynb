{
  "nbformat": 4,
  "nbformat_minor": 0,
  "metadata": {
    "kernelspec": {
      "display_name": "Python 3",
      "language": "python",
      "name": "python3"
    },
    "language_info": {
      "codemirror_mode": {
        "name": "ipython",
        "version": 3
      },
      "file_extension": ".py",
      "mimetype": "text/x-python",
      "name": "python",
      "nbconvert_exporter": "python",
      "pygments_lexer": "ipython3",
      "version": "3.7.4"
    },
    "colab": {
      "name": "Simple MLP classifier.ipynb",
      "provenance": []
    }
  },
  "cells": [
    {
      "cell_type": "markdown",
      "metadata": {
        "id": "ym4NBeAP_R9x",
        "colab_type": "text"
      },
      "source": [
        "# Chapter 2: Our First Model"
      ]
    },
    {
      "cell_type": "code",
      "metadata": {
        "id": "zS62R7kU_R-G",
        "colab_type": "code",
        "colab": {}
      },
      "source": [
        "import torch\n",
        "import torch.nn as nn\n",
        "import torch.optim as optim\n",
        "import torch.utils.data\n",
        "import torch.nn.functional as F\n",
        "import torchvision\n",
        "from torchvision import transforms\n",
        "from PIL import Image\n"
      ],
      "execution_count": 0,
      "outputs": []
    },
    {
      "cell_type": "markdown",
      "metadata": {
        "id": "Ww9uIowk_R-r",
        "colab_type": "text"
      },
      "source": [
        "## Setting up DataLoaders\n",
        "\n",
        "We'll use the built-in dataset of `torchvision.datasets.ImageFolder` to quickly set up some dataloaders of downloaded cat and fish images. \n",
        "\n",
        "`check_image`  is a quick little function that is passed to the `is_valid_file` parameter in the ImageFolder and will do a sanity check to make sure PIL can actually open the file. We're going to use this in lieu of cleaning up the downloaded dataset.\n"
      ]
    },
    {
      "cell_type": "code",
      "metadata": {
        "id": "-ZwMNTD1_R-z",
        "colab_type": "code",
        "colab": {}
      },
      "source": [
        "def check_image(path):\n",
        "    try:\n",
        "        im = Image.open(path)\n",
        "        return True\n",
        "    except:\n",
        "        return False"
      ],
      "execution_count": 0,
      "outputs": []
    },
    {
      "cell_type": "markdown",
      "metadata": {
        "id": "IceA6IGY_R_E",
        "colab_type": "text"
      },
      "source": [
        "Set up the transforms for every image:\n",
        "\n",
        "* Resize to 64x64\n",
        "* Convert to tensor\n",
        "* Normalize using ImageNet mean & std\n"
      ]
    },
    {
      "cell_type": "code",
      "metadata": {
        "id": "0LbmbLRV_R_J",
        "colab_type": "code",
        "colab": {}
      },
      "source": [
        "img_transforms = transforms.Compose([\n",
        "    transforms.Resize((64,64)),    \n",
        "    transforms.ToTensor(),\n",
        "    transforms.Normalize(mean=[0.485, 0.456, 0.406],\n",
        "                    std=[0.229, 0.224, 0.225] )\n",
        "    ])\n",
        "\n"
      ],
      "execution_count": 0,
      "outputs": []
    },
    {
      "cell_type": "code",
      "metadata": {
        "id": "jods6FZb_R_V",
        "colab_type": "code",
        "colab": {}
      },
      "source": [
        "train_data_path = \"./train/\"\n",
        "train_data = torchvision.datasets.ImageFolder(root=train_data_path,transform=img_transforms, is_valid_file=check_image)"
      ],
      "execution_count": 0,
      "outputs": []
    },
    {
      "cell_type": "code",
      "metadata": {
        "id": "ZvlOS1t__R_f",
        "colab_type": "code",
        "colab": {}
      },
      "source": [
        "val_data_path = \"./val/\"\n",
        "val_data = torchvision.datasets.ImageFolder(root=val_data_path,transform=img_transforms, is_valid_file=check_image)"
      ],
      "execution_count": 0,
      "outputs": []
    },
    {
      "cell_type": "code",
      "metadata": {
        "id": "oIml3Bvg_R_p",
        "colab_type": "code",
        "colab": {}
      },
      "source": [
        "test_data_path = \"./test/\"\n",
        "test_data = torchvision.datasets.ImageFolder(root=test_data_path,transform=img_transforms, is_valid_file=check_image) "
      ],
      "execution_count": 0,
      "outputs": []
    },
    {
      "cell_type": "code",
      "metadata": {
        "id": "QmqQhcgb_R_3",
        "colab_type": "code",
        "colab": {}
      },
      "source": [
        "batch_size=64"
      ],
      "execution_count": 0,
      "outputs": []
    },
    {
      "cell_type": "code",
      "metadata": {
        "id": "UdG9O54f_SAA",
        "colab_type": "code",
        "colab": {}
      },
      "source": [
        "train_data_loader = torch.utils.data.DataLoader(train_data, batch_size=batch_size)\n",
        "val_data_loader  = torch.utils.data.DataLoader(val_data, batch_size=batch_size) \n",
        "test_data_loader  = torch.utils.data.DataLoader(test_data, batch_size=batch_size) "
      ],
      "execution_count": 0,
      "outputs": []
    },
    {
      "cell_type": "markdown",
      "metadata": {
        "id": "uWhWL6F3_SAI",
        "colab_type": "text"
      },
      "source": [
        "## Our First Model, SimpleNet\n",
        "\n",
        "SimpleNet is a very simple combination of three Linear layers and ReLu activations between them. Note that as we don't do a `softmax()` in our `forward()`, we will need to make sure we do it in our training function during the validation phase."
      ]
    },
    {
      "cell_type": "code",
      "metadata": {
        "id": "72Uy22q3_SAM",
        "colab_type": "code",
        "colab": {}
      },
      "source": [
        "class SimpleNet(nn.Module):\n",
        "\n",
        "    def __init__(self):\n",
        "        super(SimpleNet, self).__init__()\n",
        "        self.fc1 = nn.Linear(12288, 84)\n",
        "        self.fc2 = nn.Linear(84, 50)\n",
        "        self.fc3 = nn.Linear(50,2)\n",
        "    \n",
        "    def forward(self, x):\n",
        "        x = x.view(-1, 12288)\n",
        "        x = F.relu(self.fc1(x))\n",
        "        x = F.relu(self.fc2(x))\n",
        "        x = self.fc3(x)\n",
        "        return x"
      ],
      "execution_count": 0,
      "outputs": []
    },
    {
      "cell_type": "code",
      "metadata": {
        "id": "1Sds0FPM_SAW",
        "colab_type": "code",
        "colab": {}
      },
      "source": [
        "simplenet = SimpleNet()"
      ],
      "execution_count": 0,
      "outputs": []
    },
    {
      "cell_type": "markdown",
      "metadata": {
        "id": "g-9bqjPR_SAf",
        "colab_type": "text"
      },
      "source": [
        "## Create an optimizer\n",
        "\n",
        "Here, we're just using Adam as our optimizer with a learning rate of 0.001."
      ]
    },
    {
      "cell_type": "code",
      "metadata": {
        "id": "aRqRAFAr_SAi",
        "colab_type": "code",
        "colab": {}
      },
      "source": [
        "optimizer = optim.Adam(simplenet.parameters(), lr=0.001)"
      ],
      "execution_count": 0,
      "outputs": []
    },
    {
      "cell_type": "markdown",
      "metadata": {
        "id": "91oPUDI4_SAr",
        "colab_type": "text"
      },
      "source": [
        "## Copy the model to GPU\n",
        "\n",
        "Copy the model to the GPU if available."
      ]
    },
    {
      "cell_type": "code",
      "metadata": {
        "id": "ylypc5aN_SAu",
        "colab_type": "code",
        "outputId": "b066e339-c3b3-4c57-8524-5d411aecf0f6",
        "colab": {}
      },
      "source": [
        "if torch.cuda.is_available():\n",
        "    device = torch.device(\"cuda\") \n",
        "else:\n",
        "    device = torch.device(\"cpu\")\n",
        "    \n",
        "print(\"Gonna train the network using your {0}\".format(device))\n",
        "simplenet.to(device)"
      ],
      "execution_count": 0,
      "outputs": [
        {
          "output_type": "stream",
          "text": [
            "Gonna train the network using your cpu\n"
          ],
          "name": "stdout"
        },
        {
          "output_type": "execute_result",
          "data": {
            "text/plain": [
              "SimpleNet(\n",
              "  (fc1): Linear(in_features=12288, out_features=84, bias=True)\n",
              "  (fc2): Linear(in_features=84, out_features=50, bias=True)\n",
              "  (fc3): Linear(in_features=50, out_features=2, bias=True)\n",
              ")"
            ]
          },
          "metadata": {
            "tags": []
          },
          "execution_count": 18
        }
      ]
    },
    {
      "cell_type": "markdown",
      "metadata": {
        "id": "5GclsUEp_SA6",
        "colab_type": "text"
      },
      "source": [
        "## Training \n",
        "\n",
        "Trains the model, copying batches to the GPU if required, calculating losses, optimizing the network and perform validation for each epoch."
      ]
    },
    {
      "cell_type": "code",
      "metadata": {
        "id": "CmhsDry3_SA-",
        "colab_type": "code",
        "colab": {}
      },
      "source": [
        "def train(model, optimizer, loss_fn, train_loader, val_loader, epochs=20, device=\"cpu\"):\n",
        "    for epoch in range(epochs):\n",
        "        training_loss = 0.0\n",
        "        valid_loss = 0.0\n",
        "        model.train()\n",
        "        for batch in train_loader:\n",
        "            optimizer.zero_grad()\n",
        "            inputs, targets = batch\n",
        "            inputs = inputs.to(device)\n",
        "            targets = targets.to(device)\n",
        "            output = model(inputs)\n",
        "            loss = loss_fn(output, targets)\n",
        "            loss.backward()\n",
        "            optimizer.step()\n",
        "            training_loss += loss.data.item() * inputs.size(0)\n",
        "        training_loss /= len(train_loader.dataset)\n",
        "        \n",
        "        model.eval()\n",
        "        num_correct = 0 \n",
        "        num_examples = 0\n",
        "        for batch in val_loader:\n",
        "            inputs, targets = batch\n",
        "            inputs = inputs.to(device)\n",
        "            output = model(inputs)\n",
        "            targets = targets.to(device)\n",
        "            loss = loss_fn(output,targets) \n",
        "            valid_loss += loss.data.item() * inputs.size(0)\n",
        "            correct = torch.eq(torch.max(F.softmax(output), dim=1)[1], targets).view(-1)\n",
        "            num_correct += torch.sum(correct).item()\n",
        "            num_examples += correct.shape[0]\n",
        "        valid_loss /= len(val_loader.dataset)\n",
        "\n",
        "        print('Epoch: {}, Training Loss: {:.2f}, Validation Loss: {:.2f}, accuracy = {:.2f}'.format(epoch, training_loss,\n",
        "        valid_loss, num_correct / num_examples))"
      ],
      "execution_count": 0,
      "outputs": []
    },
    {
      "cell_type": "code",
      "metadata": {
        "id": "eFTM8x1n_SBL",
        "colab_type": "code",
        "outputId": "d8da8545-7278-4af1-976b-d0e16c1084c5",
        "colab": {}
      },
      "source": [
        "train(simplenet, optimizer,torch.nn.CrossEntropyLoss(), train_data_loader,val_data_loader, epochs=5, device=device)"
      ],
      "execution_count": 0,
      "outputs": [
        {
          "output_type": "stream",
          "text": [
            "/home/chris/anaconda3/envs/diaml/lib/python3.7/site-packages/ipykernel_launcher.py:28: UserWarning: Implicit dimension choice for softmax has been deprecated. Change the call to include dim=X as an argument.\n"
          ],
          "name": "stderr"
        },
        {
          "output_type": "stream",
          "text": [
            "Epoch: 0, Training Loss: 0.24, Validation Loss: 0.46, accuracy = 0.83\n",
            "Epoch: 1, Training Loss: 0.21, Validation Loss: 0.43, accuracy = 0.82\n",
            "Epoch: 2, Training Loss: 0.17, Validation Loss: 0.44, accuracy = 0.83\n",
            "Epoch: 3, Training Loss: 0.14, Validation Loss: 0.44, accuracy = 0.82\n",
            "Epoch: 4, Training Loss: 0.13, Validation Loss: 0.43, accuracy = 0.83\n"
          ],
          "name": "stdout"
        }
      ]
    },
    {
      "cell_type": "markdown",
      "metadata": {
        "id": "6unU5WVc_SBW",
        "colab_type": "text"
      },
      "source": [
        "## Making predictions\n",
        "\n",
        "Labels are in alphanumeric order, so `cat` will be 0, `fish` will be 1. We'll need to transform the image and also make sure that the resulting tensor is copied to the appropriate device before applying our model to it."
      ]
    },
    {
      "cell_type": "code",
      "metadata": {
        "id": "jfZpa_60_SBZ",
        "colab_type": "code",
        "outputId": "26472d8e-6aa1-4eed-a0aa-ae36744ebb68",
        "colab": {}
      },
      "source": [
        "labels = ['cat','fish']\n",
        "\n",
        "# img = Image.open(\"./val/fish/100_1422.JPG\") \n",
        "img = Image.open(\"./Tibetan gazzelle.jpg\") \n",
        "img = img_transforms(img).to(device)\n",
        "\n",
        "\n",
        "prediction = F.softmax(simplenet(img))\n",
        "prediction = prediction.argmax()\n",
        "print(labels[prediction]) "
      ],
      "execution_count": 0,
      "outputs": [
        {
          "output_type": "stream",
          "text": [
            "cat\n"
          ],
          "name": "stdout"
        },
        {
          "output_type": "stream",
          "text": [
            "/home/chris/anaconda3/envs/diaml/lib/python3.7/site-packages/ipykernel_launcher.py:8: UserWarning: Implicit dimension choice for softmax has been deprecated. Change the call to include dim=X as an argument.\n",
            "  \n"
          ],
          "name": "stderr"
        }
      ]
    },
    {
      "cell_type": "markdown",
      "metadata": {
        "id": "SgaBp26P_SBn",
        "colab_type": "text"
      },
      "source": [
        "## Saving Models\n",
        "\n",
        "We can either save the entire model using `save` or just the parameters using `state_dict`. Using the latter is normally preferable, as it allows you to reuse parameters even if the model's structure changes (or apply parameters from one model to another)."
      ]
    },
    {
      "cell_type": "code",
      "metadata": {
        "id": "f-Yui3Ps_SBq",
        "colab_type": "code",
        "outputId": "065b4fad-22a5-4adb-9730-4496dd8c2e14",
        "colab": {}
      },
      "source": [
        "torch.save(simplenet, \"/tmp/simplenet\") \n",
        "simplenet = torch.load(\"/tmp/simplenet\")    \n"
      ],
      "execution_count": 0,
      "outputs": [
        {
          "output_type": "stream",
          "text": [
            "/home/chris/anaconda3/envs/diaml/lib/python3.7/site-packages/torch/serialization.py:292: UserWarning: Couldn't retrieve source code for container of type SimpleNet. It won't be checked for correctness upon loading.\n",
            "  \"type \" + obj.__name__ + \". It won't be checked \"\n",
            "/home/chris/anaconda3/envs/diaml/lib/python3.7/site-packages/torch/serialization.py:292: UserWarning: Couldn't retrieve source code for container of type Linear. It won't be checked for correctness upon loading.\n",
            "  \"type \" + obj.__name__ + \". It won't be checked \"\n"
          ],
          "name": "stderr"
        }
      ]
    },
    {
      "cell_type": "code",
      "metadata": {
        "id": "pXLFXzFv_SB0",
        "colab_type": "code",
        "outputId": "a4c3d5f6-e574-4d31-9a11-9b4f1a5c1936",
        "colab": {}
      },
      "source": [
        "torch.save(simplenet.state_dict(), \"/tmp/simplenet\")    \n",
        "simplenet = SimpleNet()\n",
        "simplenet_state_dict = torch.load(\"/tmp/simplenet\")\n",
        "simplenet.load_state_dict(simplenet_state_dict)   "
      ],
      "execution_count": 0,
      "outputs": [
        {
          "output_type": "execute_result",
          "data": {
            "text/plain": [
              "<All keys matched successfully>"
            ]
          },
          "metadata": {
            "tags": []
          },
          "execution_count": 24
        }
      ]
    }
  ]
}